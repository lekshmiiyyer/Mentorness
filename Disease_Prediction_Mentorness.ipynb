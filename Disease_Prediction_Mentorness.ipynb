{
  "nbformat": 4,
  "nbformat_minor": 0,
  "metadata": {
    "colab": {
      "provenance": []
    },
    "kernelspec": {
      "name": "python3",
      "display_name": "Python 3"
    },
    "language_info": {
      "name": "python"
    }
  },
  "cells": [
    {
      "cell_type": "code",
      "source": [
        "import pandas as pd\n",
        "from sklearn.model_selection import train_test_split\n",
        "from sklearn.naive_bayes import GaussianNB\n",
        "from sklearn.preprocessing import StandardScaler\n",
        "from sklearn.metrics import accuracy_score, precision_score, recall_score, f1_score\n",
        "\n",
        "# Load data\n",
        "train_data = pd.read_csv(\"Train_data.csv\")\n",
        "test_data = pd.read_csv(\"test_data.csv\")\n",
        "\n",
        "# Data Preprocessing\n",
        "\n",
        "# Drop rows with missing values\n",
        "train_data.dropna(inplace=True)\n",
        "test_data.dropna(inplace=True)\n",
        "\n",
        "# Separate features (X) and target variable (y)\n",
        "X_train = train_data.drop('Disease', axis=1)\n",
        "y_train = train_data['Disease']\n",
        "X_test = test_data.drop('Disease', axis=1)\n",
        "y_test = test_data['Disease']\n",
        "\n",
        "# Standardize the features\n",
        "scaler = StandardScaler()\n",
        "X_train_scaled = scaler.fit_transform(X_train)\n",
        "X_test_scaled = scaler.transform(X_test)\n",
        "\n",
        "# Convert multiclass problem into binary (diseased vs. non-diseased)\n",
        "y_train_binary = y_train.apply(lambda x: 0 if x == 'Healthy' else 1)\n",
        "y_test_binary = y_test.apply(lambda x: 0 if x == 'Healthy' else 1)\n",
        "\n",
        "# Train the model\n",
        "model = GaussianNB()\n",
        "model.fit(X_train_scaled, y_train_binary)\n",
        "\n",
        "# Predict on test data\n",
        "y_pred_binary = model.predict(X_test_scaled)\n",
        "\n",
        "# Print the evaluation metrics for binary classification\n",
        "print(\"Accuracy:\", accuracy_score(y_test_binary, y_pred_binary))\n",
        "print(\"Precision:\", precision_score(y_test_binary, y_pred_binary))\n",
        "print(\"Recall:\", recall_score(y_test_binary, y_pred_binary))\n",
        "print(\"F1 Score:\", f1_score(y_test_binary, y_pred_binary))\n"
      ],
      "metadata": {
        "colab": {
          "base_uri": "https://localhost:8080/"
        },
        "id": "0rb6FRPb-0zk",
        "outputId": "51e098bb-d2e8-4e42-ef6c-7b0d1520ef7e"
      },
      "execution_count": 3,
      "outputs": [
        {
          "output_type": "stream",
          "name": "stdout",
          "text": [
            "Accuracy: 0.9465020576131687\n",
            "Precision: 0.9934924078091106\n",
            "Recall: 0.9521829521829522\n",
            "F1 Score: 0.9723991507430998\n"
          ]
        }
      ]
    }
  ]
}